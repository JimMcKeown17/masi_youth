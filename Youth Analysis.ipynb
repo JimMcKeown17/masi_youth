{
 "cells": [
  {
   "cell_type": "code",
   "execution_count": 33,
   "id": "8023ebde-28ec-4bb9-8bc0-06abb87599ed",
   "metadata": {
    "tags": []
   },
   "outputs": [],
   "source": [
    "import pandas as pd\n",
    "import datetime"
   ]
  },
  {
   "cell_type": "code",
   "execution_count": 35,
   "id": "4f6c7bdb-0554-4ceb-9631-b83759fb6466",
   "metadata": {
    "tags": []
   },
   "outputs": [],
   "source": [
    "youthpay = pd.read_csv(\"All Months-Days Worked Data.csv\", parse_dates=['Start Date', 'End Date'])\n",
    "youth = pd.read_csv(\"Combined Youth Data-All Youth - Raw Data  .csv\", parse_dates=['Start Date', 'End Date'])"
   ]
  },
  {
   "cell_type": "code",
   "execution_count": 36,
   "id": "10ed8d03-4096-45ca-b413-b0fdaab148c0",
   "metadata": {
    "tags": []
   },
   "outputs": [],
   "source": [
    "holidays = pd.to_datetime([\n",
    "    \"2023-03-27\", \"2023-03-28\", \"2023-03-29\", \"2023-03-30\", \"2023-03-31\",\n",
    "    \"2023-04-01\", \"2023-04-02\", \"2023-04-03\", \"2023-04-04\", \"2023-04-05\",\n",
    "    \"2023-04-06\", \"2023-04-07\", \"2023-04-08\", \"2023-04-09\", \"2023-04-10\",\n",
    "    \"2023-04-11\", \"2023-06-26\", \"2023-06-27\", \"2023-06-28\", \"2023-06-29\",\n",
    "    \"2023-06-30\", \"2023-07-01\", \"2023-07-02\", \"2023-07-03\", \"2023-07-04\",\n",
    "    \"2023-07-05\", \"2023-07-06\", \"2023-07-07\", \"2023-07-08\", \"2023-07-09\",\n",
    "    \"2023-07-10\", \"2023-07-11\", \"2023-07-12\", \"2023-07-13\", \"2023-07-14\",\n",
    "    \"2023-07-15\", \"2023-07-16\", \"2023-07-17\"\n",
    "])\n"
   ]
  },
  {
   "cell_type": "code",
   "execution_count": 37,
   "id": "192dfdce-6fcf-4b86-ac25-e53e31eae2ab",
   "metadata": {
    "tags": []
   },
   "outputs": [],
   "source": [
    "def workdays_in_month(year, month, holidays, start_date=None, end_date=None):\n",
    "    \"\"\"\n",
    "    Calculate the number of workdays in a given month and year, excluding weekends and given holidays.\n",
    "    Optionally consider a start and end date.\n",
    "    \"\"\"\n",
    "    # Define the start and end of the month\n",
    "    month_start = pd.Timestamp(year, month, 1)\n",
    "    if month == 12:\n",
    "        month_end = pd.Timestamp(year + 1, 1, 1) - pd.Timedelta(days=1)\n",
    "    else:\n",
    "        month_end = pd.Timestamp(year, month + 1, 1) - pd.Timedelta(days=1)\n",
    "    \n",
    "    # Adjust for provided start and end dates\n",
    "    if start_date and start_date > month_start:\n",
    "        month_start = start_date\n",
    "    if end_date and end_date < month_end:\n",
    "        month_end = end_date\n",
    "\n",
    "    # Generate date range for the month\n",
    "    date_range = pd.date_range(month_start, month_end)\n",
    "    \n",
    "    # Filter out weekends and holidays\n",
    "    workdays = date_range[~date_range.isin(holidays)]\n",
    "    workdays = workdays[workdays.dayofweek < 5]\n",
    "    \n",
    "    return len(workdays)\n",
    "\n"
   ]
  },
  {
   "cell_type": "code",
   "execution_count": 38,
   "id": "ee200ba9-f951-456b-bfdc-864928e4891a",
   "metadata": {
    "tags": []
   },
   "outputs": [],
   "source": [
    "months = ['March', 'April', 'May', 'June', 'July']\n",
    "year = 2023\n",
    "\n",
    "for index, row in youthpay.iterrows():\n",
    "    for month in months:\n",
    "        month_num = pd.Timestamp(f\"{year}-{month}-01\").month\n",
    "        \n",
    "        # Extract the youth's start and end dates\n",
    "        start_date = row['Start Date'] if month_num >= row['Start Date'].month else None\n",
    "        end_date = row['End Date'] if month_num <= row['End Date'].month else None\n",
    "        \n",
    "        youthpay.at[index, f\"{month} - Workdays\"] = workdays_in_month(year, month_num, holidays, start_date, end_date)\n"
   ]
  },
  {
   "cell_type": "code",
   "execution_count": 39,
   "id": "8432bce3-53c3-4ac1-a023-7a2708a511ac",
   "metadata": {
    "tags": []
   },
   "outputs": [
    {
     "data": {
      "text/html": [
       "<div>\n",
       "<style scoped>\n",
       "    .dataframe tbody tr th:only-of-type {\n",
       "        vertical-align: middle;\n",
       "    }\n",
       "\n",
       "    .dataframe tbody tr th {\n",
       "        vertical-align: top;\n",
       "    }\n",
       "\n",
       "    .dataframe thead th {\n",
       "        text-align: right;\n",
       "    }\n",
       "</style>\n",
       "<table border=\"1\" class=\"dataframe\">\n",
       "  <thead>\n",
       "    <tr style=\"text-align: right;\">\n",
       "      <th></th>\n",
       "      <th>Employee ID</th>\n",
       "      <th>Start Date</th>\n",
       "      <th>End Date</th>\n",
       "      <th>March - Days</th>\n",
       "      <th>March - Workdays</th>\n",
       "    </tr>\n",
       "  </thead>\n",
       "  <tbody>\n",
       "    <tr>\n",
       "      <th>125</th>\n",
       "      <td>509</td>\n",
       "      <td>2021-05-01</td>\n",
       "      <td>NaT</td>\n",
       "      <td>20.0</td>\n",
       "      <td>18.0</td>\n",
       "    </tr>\n",
       "    <tr>\n",
       "      <th>162</th>\n",
       "      <td>593</td>\n",
       "      <td>2022-08-01</td>\n",
       "      <td>NaT</td>\n",
       "      <td>20.0</td>\n",
       "      <td>18.0</td>\n",
       "    </tr>\n",
       "    <tr>\n",
       "      <th>154</th>\n",
       "      <td>573</td>\n",
       "      <td>2022-01-04</td>\n",
       "      <td>NaT</td>\n",
       "      <td>20.0</td>\n",
       "      <td>18.0</td>\n",
       "    </tr>\n",
       "    <tr>\n",
       "      <th>168</th>\n",
       "      <td>661</td>\n",
       "      <td>2022-06-01</td>\n",
       "      <td>NaT</td>\n",
       "      <td>20.0</td>\n",
       "      <td>18.0</td>\n",
       "    </tr>\n",
       "    <tr>\n",
       "      <th>127</th>\n",
       "      <td>514</td>\n",
       "      <td>2022-08-01</td>\n",
       "      <td>NaT</td>\n",
       "      <td>20.0</td>\n",
       "      <td>18.0</td>\n",
       "    </tr>\n",
       "    <tr>\n",
       "      <th>...</th>\n",
       "      <td>...</td>\n",
       "      <td>...</td>\n",
       "      <td>...</td>\n",
       "      <td>...</td>\n",
       "      <td>...</td>\n",
       "    </tr>\n",
       "    <tr>\n",
       "      <th>572</th>\n",
       "      <td>307</td>\n",
       "      <td>2022-01-04</td>\n",
       "      <td>2022-11-30</td>\n",
       "      <td>NaN</td>\n",
       "      <td>0.0</td>\n",
       "    </tr>\n",
       "    <tr>\n",
       "      <th>573</th>\n",
       "      <td>306</td>\n",
       "      <td>2022-01-04</td>\n",
       "      <td>2022-11-30</td>\n",
       "      <td>NaN</td>\n",
       "      <td>0.0</td>\n",
       "    </tr>\n",
       "    <tr>\n",
       "      <th>574</th>\n",
       "      <td>233</td>\n",
       "      <td>2023-05-30</td>\n",
       "      <td>NaT</td>\n",
       "      <td>NaN</td>\n",
       "      <td>18.0</td>\n",
       "    </tr>\n",
       "    <tr>\n",
       "      <th>577</th>\n",
       "      <td>201</td>\n",
       "      <td>2021-02-11</td>\n",
       "      <td>2023-02-05</td>\n",
       "      <td>NaN</td>\n",
       "      <td>18.0</td>\n",
       "    </tr>\n",
       "    <tr>\n",
       "      <th>578</th>\n",
       "      <td>876</td>\n",
       "      <td>2023-04-03</td>\n",
       "      <td>NaT</td>\n",
       "      <td>NaN</td>\n",
       "      <td>18.0</td>\n",
       "    </tr>\n",
       "  </tbody>\n",
       "</table>\n",
       "<p>579 rows × 5 columns</p>\n",
       "</div>"
      ],
      "text/plain": [
       "     Employee ID Start Date   End Date  March - Days  March - Workdays\n",
       "125          509 2021-05-01        NaT          20.0              18.0\n",
       "162          593 2022-08-01        NaT          20.0              18.0\n",
       "154          573 2022-01-04        NaT          20.0              18.0\n",
       "168          661 2022-06-01        NaT          20.0              18.0\n",
       "127          514 2022-08-01        NaT          20.0              18.0\n",
       "..           ...        ...        ...           ...               ...\n",
       "572          307 2022-01-04 2022-11-30           NaN               0.0\n",
       "573          306 2022-01-04 2022-11-30           NaN               0.0\n",
       "574          233 2023-05-30        NaT           NaN              18.0\n",
       "577          201 2021-02-11 2023-02-05           NaN              18.0\n",
       "578          876 2023-04-03        NaT           NaN              18.0\n",
       "\n",
       "[579 rows x 5 columns]"
      ]
     },
     "execution_count": 39,
     "metadata": {},
     "output_type": "execute_result"
    }
   ],
   "source": [
    "youthpay[['Employee ID', 'Start Date', 'End Date', 'March - Days','March - Workdays']].sort_values('March - Days', ascending=False)"
   ]
  },
  {
   "cell_type": "code",
   "execution_count": null,
   "id": "473eba58-f15c-42cc-bb44-470c45e512cd",
   "metadata": {},
   "outputs": [],
   "source": []
  },
  {
   "cell_type": "code",
   "execution_count": 17,
   "id": "8ebd562b-e648-4ad2-9c5c-b5ba6d1db773",
   "metadata": {
    "tags": []
   },
   "outputs": [
    {
     "data": {
      "text/html": [
       "<div>\n",
       "<style scoped>\n",
       "    .dataframe tbody tr th:only-of-type {\n",
       "        vertical-align: middle;\n",
       "    }\n",
       "\n",
       "    .dataframe tbody tr th {\n",
       "        vertical-align: top;\n",
       "    }\n",
       "\n",
       "    .dataframe thead th {\n",
       "        text-align: right;\n",
       "    }\n",
       "</style>\n",
       "<table border=\"1\" class=\"dataframe\">\n",
       "  <thead>\n",
       "    <tr style=\"text-align: right;\">\n",
       "      <th></th>\n",
       "      <th>Employee ID</th>\n",
       "      <th>Start Date</th>\n",
       "      <th>End Date</th>\n",
       "      <th>Months Active</th>\n",
       "      <th>Job Title</th>\n",
       "      <th>Reason for Leaving</th>\n",
       "    </tr>\n",
       "  </thead>\n",
       "  <tbody>\n",
       "    <tr>\n",
       "      <th>135</th>\n",
       "      <td>444</td>\n",
       "      <td>2022-01-01</td>\n",
       "      <td>2023-04-26</td>\n",
       "      <td>15</td>\n",
       "      <td>Literacy Coach</td>\n",
       "      <td>Found a Job</td>\n",
       "    </tr>\n",
       "    <tr>\n",
       "      <th>136</th>\n",
       "      <td>445</td>\n",
       "      <td>2022-01-01</td>\n",
       "      <td>NaT</td>\n",
       "      <td>19</td>\n",
       "      <td>Literacy Coach</td>\n",
       "      <td>NaN</td>\n",
       "    </tr>\n",
       "    <tr>\n",
       "      <th>219</th>\n",
       "      <td>545</td>\n",
       "      <td>2022-01-02</td>\n",
       "      <td>2022-12-13</td>\n",
       "      <td>11</td>\n",
       "      <td>Librarian</td>\n",
       "      <td>Found a Job</td>\n",
       "    </tr>\n",
       "    <tr>\n",
       "      <th>254</th>\n",
       "      <td>580</td>\n",
       "      <td>2022-01-02</td>\n",
       "      <td>2022-11-30</td>\n",
       "      <td>10</td>\n",
       "      <td>Literacy Coach</td>\n",
       "      <td>Did Not Return The Following Year</td>\n",
       "    </tr>\n",
       "    <tr>\n",
       "      <th>230</th>\n",
       "      <td>556</td>\n",
       "      <td>2022-01-02</td>\n",
       "      <td>2022-12-13</td>\n",
       "      <td>11</td>\n",
       "      <td>Literacy Coach</td>\n",
       "      <td>Found a Job</td>\n",
       "    </tr>\n",
       "    <tr>\n",
       "      <th>...</th>\n",
       "      <td>...</td>\n",
       "      <td>...</td>\n",
       "      <td>...</td>\n",
       "      <td>...</td>\n",
       "      <td>...</td>\n",
       "      <td>...</td>\n",
       "    </tr>\n",
       "    <tr>\n",
       "      <th>332</th>\n",
       "      <td>717</td>\n",
       "      <td>2023-03-24</td>\n",
       "      <td>NaT</td>\n",
       "      <td>5</td>\n",
       "      <td>1000 Stories Youth</td>\n",
       "      <td>NaN</td>\n",
       "    </tr>\n",
       "    <tr>\n",
       "      <th>476</th>\n",
       "      <td>866</td>\n",
       "      <td>2023-03-27</td>\n",
       "      <td>2023-03-27</td>\n",
       "      <td>0</td>\n",
       "      <td>Literacy Coach</td>\n",
       "      <td>Found a Job</td>\n",
       "    </tr>\n",
       "    <tr>\n",
       "      <th>477</th>\n",
       "      <td>867</td>\n",
       "      <td>2023-03-27</td>\n",
       "      <td>NaT</td>\n",
       "      <td>5</td>\n",
       "      <td>Literacy Coach</td>\n",
       "      <td>NaN</td>\n",
       "    </tr>\n",
       "    <tr>\n",
       "      <th>478</th>\n",
       "      <td>868</td>\n",
       "      <td>2023-03-27</td>\n",
       "      <td>NaT</td>\n",
       "      <td>5</td>\n",
       "      <td>Literacy Coach</td>\n",
       "      <td>NaN</td>\n",
       "    </tr>\n",
       "    <tr>\n",
       "      <th>352</th>\n",
       "      <td>737</td>\n",
       "      <td>2023-03-27</td>\n",
       "      <td>NaT</td>\n",
       "      <td>5</td>\n",
       "      <td>Literacy Coach</td>\n",
       "      <td>NaN</td>\n",
       "    </tr>\n",
       "  </tbody>\n",
       "</table>\n",
       "<p>414 rows × 6 columns</p>\n",
       "</div>"
      ],
      "text/plain": [
       "     Employee ID Start Date   End Date  Months Active           Job Title  \\\n",
       "135          444 2022-01-01 2023-04-26             15      Literacy Coach   \n",
       "136          445 2022-01-01        NaT             19      Literacy Coach   \n",
       "219          545 2022-01-02 2022-12-13             11           Librarian   \n",
       "254          580 2022-01-02 2022-11-30             10      Literacy Coach   \n",
       "230          556 2022-01-02 2022-12-13             11      Literacy Coach   \n",
       "..           ...        ...        ...            ...                 ...   \n",
       "332          717 2023-03-24        NaT              5  1000 Stories Youth   \n",
       "476          866 2023-03-27 2023-03-27              0      Literacy Coach   \n",
       "477          867 2023-03-27        NaT              5      Literacy Coach   \n",
       "478          868 2023-03-27        NaT              5      Literacy Coach   \n",
       "352          737 2023-03-27        NaT              5      Literacy Coach   \n",
       "\n",
       "                     Reason for Leaving  \n",
       "135                         Found a Job  \n",
       "136                                 NaN  \n",
       "219                         Found a Job  \n",
       "254  Did Not Return The Following Year   \n",
       "230                         Found a Job  \n",
       "..                                  ...  \n",
       "332                                 NaN  \n",
       "476                         Found a Job  \n",
       "477                                 NaN  \n",
       "478                                 NaN  \n",
       "352                                 NaN  \n",
       "\n",
       "[414 rows x 6 columns]"
      ]
     },
     "execution_count": 17,
     "metadata": {},
     "output_type": "execute_result"
    }
   ],
   "source": [
    "hired_after_22 = youth[youth['Start Date'].between(\"2022/01/01\", \"2023/04/01\")]\n",
    "hired_after_22[['Employee ID', 'Start Date', 'End Date', 'Months Active', 'Job Title', 'Reason for Leaving']].sort_values(by=\"Start Date\")"
   ]
  },
  {
   "cell_type": "code",
   "execution_count": 40,
   "id": "13123aa3-55aa-4a54-ba1c-f186a35c3eb4",
   "metadata": {
    "tags": []
   },
   "outputs": [
    {
     "data": {
      "text/html": [
       "<div>\n",
       "<style scoped>\n",
       "    .dataframe tbody tr th:only-of-type {\n",
       "        vertical-align: middle;\n",
       "    }\n",
       "\n",
       "    .dataframe tbody tr th {\n",
       "        vertical-align: top;\n",
       "    }\n",
       "\n",
       "    .dataframe thead th {\n",
       "        text-align: right;\n",
       "    }\n",
       "</style>\n",
       "<table border=\"1\" class=\"dataframe\">\n",
       "  <thead>\n",
       "    <tr style=\"text-align: right;\">\n",
       "      <th></th>\n",
       "      <th>Job Title</th>\n",
       "      <th>Average Months Active</th>\n",
       "      <th>Turnover Rate</th>\n",
       "    </tr>\n",
       "  </thead>\n",
       "  <tbody>\n",
       "    <tr>\n",
       "      <th>0</th>\n",
       "      <td>1000 Stories Youth</td>\n",
       "      <td>1.243243</td>\n",
       "      <td>100.0</td>\n",
       "    </tr>\n",
       "    <tr>\n",
       "      <th>1</th>\n",
       "      <td>EduTech Coach</td>\n",
       "      <td>11.615385</td>\n",
       "      <td>100.0</td>\n",
       "    </tr>\n",
       "    <tr>\n",
       "      <th>2</th>\n",
       "      <td>Librarian</td>\n",
       "      <td>22.894737</td>\n",
       "      <td>100.0</td>\n",
       "    </tr>\n",
       "    <tr>\n",
       "      <th>3</th>\n",
       "      <td>Literacy Coach</td>\n",
       "      <td>9.877193</td>\n",
       "      <td>100.0</td>\n",
       "    </tr>\n",
       "    <tr>\n",
       "      <th>4</th>\n",
       "      <td>Sport &amp; Arts Coach</td>\n",
       "      <td>3.666667</td>\n",
       "      <td>100.0</td>\n",
       "    </tr>\n",
       "    <tr>\n",
       "      <th>5</th>\n",
       "      <td>Yeboneer</td>\n",
       "      <td>7.022831</td>\n",
       "      <td>100.0</td>\n",
       "    </tr>\n",
       "  </tbody>\n",
       "</table>\n",
       "</div>"
      ],
      "text/plain": [
       "            Job Title  Average Months Active  Turnover Rate\n",
       "0  1000 Stories Youth               1.243243          100.0\n",
       "1       EduTech Coach              11.615385          100.0\n",
       "2           Librarian              22.894737          100.0\n",
       "3      Literacy Coach               9.877193          100.0\n",
       "4  Sport & Arts Coach               3.666667          100.0\n",
       "5            Yeboneer               7.022831          100.0"
      ]
     },
     "execution_count": 40,
     "metadata": {},
     "output_type": "execute_result"
    }
   ],
   "source": [
    "# Group by 'Job Title' and calculate average months active and turnover rate\n",
    "grouped_data = youth.groupby('Job Title').apply(lambda x: pd.Series({\n",
    "    'Average Months Active': x['Months Active'].mean(),\n",
    "    'Turnover Rate': (len(x[x['End Date'].dt.date != pd.Timestamp.today().date()]) / len(x)) * 100\n",
    "})).reset_index()\n",
    "\n",
    "grouped_data\n"
   ]
  },
  {
   "cell_type": "code",
   "execution_count": 26,
   "id": "c1d00945-7100-4f3e-b67e-669dfbb543b7",
   "metadata": {
    "tags": []
   },
   "outputs": [
    {
     "data": {
      "text/plain": [
       "End Month\n",
       "1.0       3\n",
       "2.0      16\n",
       "3.0      23\n",
       "4.0      16\n",
       "5.0      33\n",
       "6.0      10\n",
       "7.0      17\n",
       "8.0      14\n",
       "9.0       1\n",
       "10.0      2\n",
       "11.0    120\n",
       "12.0     48\n",
       "Name: count, dtype: int64"
      ]
     },
     "execution_count": 26,
     "metadata": {},
     "output_type": "execute_result"
    }
   ],
   "source": [
    "# Extract the month from the 'End Date' column\n",
    "youth['End Month'] = youth['End Date'].dt.month\n",
    "\n",
    "# Count the number of departures for each month\n",
    "departure_counts = youth[youth['End Date'].dt.date != pd.Timestamp.today().date()]['End Month'].value_counts().sort_index()\n",
    "\n",
    "departure_counts\n"
   ]
  },
  {
   "cell_type": "code",
   "execution_count": 31,
   "id": "e4b21561-1c23-496a-b029-fcfccff16700",
   "metadata": {
    "tags": []
   },
   "outputs": [
    {
     "data": {
      "text/plain": [
       "100.0"
      ]
     },
     "execution_count": 31,
     "metadata": {},
     "output_type": "execute_result"
    }
   ],
   "source": [
    "# Filter youths that started in 2023\n",
    "youth_2023 = youth[youth['Start Date'].dt.year == 2023]\n",
    "\n",
    "\n",
    "# Filter out youths with 'Did Not Start' in the 'Reason for Leaving' column\n",
    "youth_2023_excluded = youth_2023[youth_2023['Reason for Leaving'] != 'Did Not Start']\n",
    "\n",
    "# Calculate turnover rate for youths that started in 2023 excluding 'Did Not Start'\n",
    "total_youth_2023_excluded = len(youth_2023_excluded)\n",
    "youth_2023_excluded_left = len(youth_2023_excluded[youth_2023_excluded['End Date'].dt.date != pd.Timestamp.today().date()])\n",
    "\n",
    "turnover_rate_2023_excluded = (youth_2023_excluded_left / total_youth_2023_excluded) * 100\n",
    "\n",
    "turnover_rate_2023_excluded\n"
   ]
  },
  {
   "cell_type": "code",
   "execution_count": 41,
   "id": "4dfe018d-639d-4e09-9bd5-e722537420e6",
   "metadata": {
    "tags": []
   },
   "outputs": [
    {
     "name": "stdout",
     "output_type": "stream",
     "text": [
      "Turnover rate for youths who started in 2023: 20.44%\n",
      "            Job Title  Average Months Active  Turnover Rate\n",
      "0  1000 Stories Youth               2.722222      22.222222\n",
      "1       EduTech Coach               3.500000      33.333333\n",
      "2      Literacy Coach               3.826087      21.739130\n",
      "3  Sport & Arts Coach               4.666667       0.000000\n",
      "4            Yeboneer               4.366972      18.348624\n"
     ]
    }
   ],
   "source": [
    "\n",
    "\n",
    "# Convert Start Date and End Date columns to datetime format\n",
    "youth['Start Date'] = pd.to_datetime(youth['Start Date'])\n",
    "youth['End Date'].fillna(pd.Timestamp.today(), inplace=True)  # Fill missing End Dates with today's date\n",
    "youth['End Date'] = pd.to_datetime(youth['End Date'])\n",
    "\n",
    "# Calculate number of months active for each youth using years and months\n",
    "youth['Months Active'] = (youth['End Date'].dt.year - youth['Start Date'].dt.year) * 12 + \\\n",
    "                        (youth['End Date'].dt.month - youth['Start Date'].dt.month)\n",
    "\n",
    "# Filter youths that started in 2023 and exclude those with 'Did Not Start' in the 'Reason for Leaving' column\n",
    "youth_2023 = youth[youth['Start Date'].dt.year == 2023]\n",
    "youth_2023_excluded = youth_2023[youth_2023['Reason for Leaving'] != 'Did Not Start']\n",
    "\n",
    "# Calculate turnover rate for youths that started in 2023 excluding 'Did Not Start'\n",
    "total_youth_2023_excluded = len(youth_2023_excluded)\n",
    "youth_2023_excluded_left = len(youth_2023_excluded[youth_2023_excluded['End Date'].dt.date != pd.Timestamp.today().date()])\n",
    "turnover_rate_2023_excluded = (youth_2023_excluded_left / total_youth_2023_excluded) * 100\n",
    "\n",
    "print(f\"Turnover rate for youths who started in 2023: {turnover_rate_2023_excluded:.2f}%\")\n",
    "\n",
    "# Breakdown by Job Title\n",
    "grouped_data = youth_2023_excluded.groupby('Job Title').apply(lambda x: pd.Series({\n",
    "    'Average Months Active': x['Months Active'].mean(),\n",
    "    'Turnover Rate': (len(x[x['End Date'].dt.date != pd.Timestamp.today().date()]) / len(x)) * 100\n",
    "})).reset_index()\n",
    "\n",
    "print(grouped_data)\n"
   ]
  },
  {
   "cell_type": "code",
   "execution_count": 42,
   "id": "6d56e54f-d97d-4994-9702-e998acc78a32",
   "metadata": {
    "tags": []
   },
   "outputs": [],
   "source": [
    "youth_22 = youth[youth['Start Date'].between(\"2022/01/01\", \"2022/11/01\")]\n"
   ]
  },
  {
   "cell_type": "code",
   "execution_count": 44,
   "id": "88421e7b-7884-460f-bcbe-1dcd00006328",
   "metadata": {
    "tags": []
   },
   "outputs": [
    {
     "data": {
      "text/plain": [
       "Job Title\n",
       "EduTech Coach     10.000000\n",
       "Librarian         15.166667\n",
       "Literacy Coach    11.942308\n",
       "Yeboneer           9.971963\n",
       "Name: Months Active, dtype: float64"
      ]
     },
     "execution_count": 44,
     "metadata": {},
     "output_type": "execute_result"
    }
   ],
   "source": [
    "youth_22.groupby('Job Title')['Months Active'].mean()"
   ]
  },
  {
   "cell_type": "code",
   "execution_count": 52,
   "id": "ae3fb452-ce97-47b7-a4bc-e41efa326add",
   "metadata": {
    "tags": []
   },
   "outputs": [
    {
     "data": {
      "text/plain": [
       "Employment Status\n",
       "Inactive    180\n",
       "Active       41\n",
       "Name: count, dtype: int64"
      ]
     },
     "execution_count": 52,
     "metadata": {},
     "output_type": "execute_result"
    }
   ],
   "source": [
    "youth_22['Employment Status'].value_counts()"
   ]
  },
  {
   "cell_type": "code",
   "execution_count": 58,
   "id": "25402939-e563-48d4-bda5-99c28f731ed8",
   "metadata": {
    "tags": []
   },
   "outputs": [
    {
     "name": "stderr",
     "output_type": "stream",
     "text": [
      "/var/folders/pl/dqfqzz7579g7h98m6pygrdyw0000gn/T/ipykernel_41842/2598177223.py:1: SettingWithCopyWarning: \n",
      "A value is trying to be set on a copy of a slice from a DataFrame.\n",
      "Try using .loc[row_indexer,col_indexer] = value instead\n",
      "\n",
      "See the caveats in the documentation: https://pandas.pydata.org/pandas-docs/stable/user_guide/indexing.html#returning-a-view-versus-a-copy\n",
      "  youth_22['Reason for Leaving'] = youth['Reason for Leaving'].fillna(\"Still Active\")\n"
     ]
    },
    {
     "data": {
      "text/plain": [
       "Employment Status  Job Title       Reason for Leaving                \n",
       "Active             EduTech Coach   Still Active                           1\n",
       "                   Librarian       Still Active                           4\n",
       "                   Literacy Coach  Still Active                          36\n",
       "Inactive           EduTech Coach   Found a Job                            2\n",
       "                                   Did Not Return The Following Year      1\n",
       "                   Librarian       Found a Job                            2\n",
       "                   Literacy Coach  Found a Job                           31\n",
       "                                   Personal (Chose Not To Specify)       10\n",
       "                                   Did Not Return The Following Year     10\n",
       "                                   Went to University / College           8\n",
       "                                   Dismissed                              4\n",
       "                                   Passed Away                            2\n",
       "                                   Resigned                               2\n",
       "                                   Did Not Start                          1\n",
       "                   Yeboneer        Contract Expired                      71\n",
       "                                   Found a Job                           20\n",
       "                                   Went to University / College           8\n",
       "                                   Personal (Chose Not To Specify)        6\n",
       "                                   Resigned                               2\n",
       "Name: count, dtype: int64"
      ]
     },
     "execution_count": 58,
     "metadata": {},
     "output_type": "execute_result"
    }
   ],
   "source": [
    "youth_22['Reason for Leaving'] = youth['Reason for Leaving'].fillna(\"Still Active\")\n",
    "\n",
    "youth_22.groupby(['Employment Status', 'Job Title'])['Reason for Leaving'].value_counts()"
   ]
  },
  {
   "cell_type": "code",
   "execution_count": null,
   "id": "09bdc7d8-0d45-4674-8a00-47d183b41d5a",
   "metadata": {},
   "outputs": [],
   "source": []
  }
 ],
 "metadata": {
  "kernelspec": {
   "display_name": "Python 3 (ipykernel)",
   "language": "python",
   "name": "python3"
  },
  "language_info": {
   "codemirror_mode": {
    "name": "ipython",
    "version": 3
   },
   "file_extension": ".py",
   "mimetype": "text/x-python",
   "name": "python",
   "nbconvert_exporter": "python",
   "pygments_lexer": "ipython3",
   "version": "3.11.3"
  }
 },
 "nbformat": 4,
 "nbformat_minor": 5
}
