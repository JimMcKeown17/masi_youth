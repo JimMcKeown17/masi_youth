{
 "cells": [
  {
   "cell_type": "code",
   "execution_count": 22,
   "id": "30473fc2-1bbd-42cd-b234-e7b676695d11",
   "metadata": {
    "tags": []
   },
   "outputs": [],
   "source": [
    "import pandas as pd\n",
    "import matplotlib.pyplot as plt\n",
    "import dash\n",
    "import numpy as np\n",
    "\n",
    "# import plotly\n",
    "import plotly.graph_objects as go\n",
    "import plotly.express as px\n",
    "\n",
    "from jupyter_dash import JupyterDash\n",
    "from dash import dcc, html, Input, Output\n",
    "\n",
    "from dash.dependencies import Output, Input\n",
    "from dash.exceptions import PreventUpdate"
   ]
  },
  {
   "cell_type": "code",
   "execution_count": 2,
   "id": "2f61c33b-2a60-468a-83e9-345295a0c24a",
   "metadata": {
    "tags": []
   },
   "outputs": [
    {
     "name": "stderr",
     "output_type": "stream",
     "text": [
      "/Users/jimmckeown/anaconda3/lib/python3.11/site-packages/openpyxl/worksheet/_read_only.py:79: UserWarning: Unknown extension is not supported and will be removed\n",
      "  for idx, row in parser.parse():\n"
     ]
    }
   ],
   "source": [
    "import pandas as pd\n",
    "import numpy as np\n",
    "df = pd.read_csv(\"All Months-Days Worked Data.csv\")\n",
    "file_path = \"../Childrens Results/Results By Year/20230824- Children Database  - English Main.xlsx\"\n",
    "sheet_name = \"Children Results \"\n",
    "children = pd.read_excel(file_path, sheet_name=sheet_name)\n",
    "youth = pd.read_csv(\"20230905 - Combined Youth Data.csv\")\n",
    "youth_hours = pd.read_csv(\"2023 Youth Hours & Days-Days Worked Data.csv\")\n",
    "youth_stipends = pd.read_csv(\"2023 Youth Stipends-Stipends Main Data.csv\")\n",
    "session_tracker = pd.read_csv(\"Main - Combined Session Tracker - Consolidated.csv\")\n",
    "# session_tracker = pd.read_excel(\"20230905 - Online Session Tracker w IDs.xlsx\", sheet_name=\"Sheet1\")\n"
   ]
  },
  {
   "cell_type": "code",
   "execution_count": 3,
   "id": "59f75981-4e00-46f2-b616-32844a2a6fa8",
   "metadata": {
    "tags": []
   },
   "outputs": [],
   "source": [
    "# Calculate 'Total - Hours', 'Total - Days', and 'Total - Stipend' columns\n",
    "youth_hours['Total - Hours'] = youth_hours[['March - Hours', 'April - Hours', 'May - Hours', 'June - Hours', 'July - Hours']].sum(axis=1)\n",
    "youth_hours['Total - Days'] = youth_hours[['March - Days', 'April - Days', 'May - Days', 'June - Days', 'July - Days']].sum(axis=1)\n",
    "youth_hours['Total - Stipend'] = youth_hours[['March - Stipend', 'April - Stipend', 'May - Stipend', 'June - Stipend', 'July - Stipend']].sum(axis=1)\n"
   ]
  },
  {
   "cell_type": "code",
   "execution_count": 8,
   "id": "42a32145-fa92-4837-b5f4-9fdc41323276",
   "metadata": {
    "tags": []
   },
   "outputs": [],
   "source": [
    "youth_hours['Days Through Aug'] = youth_hours[\n",
    "    ['March - Days', 'April - Days', 'May - Days', \n",
    "     'June - Days', 'July - Days', 'August - Days']].sum(axis=1)\n",
    "\n",
    "youth_hours['Days Through July'] = youth_hours[\n",
    "    ['March - Days', 'April - Days', 'May - Days', \n",
    "     'June - Days', 'July - Days']].sum(axis=1)"
   ]
  },
  {
   "cell_type": "markdown",
   "id": "9d243ffe-6db9-418d-bbc9-e00cadba1ee0",
   "metadata": {},
   "source": [
    "#### Create LC Sessions Database"
   ]
  },
  {
   "cell_type": "code",
   "execution_count": 16,
   "id": "583644a7-7760-47d4-99d6-1efff3593e72",
   "metadata": {
    "tags": []
   },
   "outputs": [
    {
     "data": {
      "text/html": [
       "<div>\n",
       "<style scoped>\n",
       "    .dataframe tbody tr th:only-of-type {\n",
       "        vertical-align: middle;\n",
       "    }\n",
       "\n",
       "    .dataframe tbody tr th {\n",
       "        vertical-align: top;\n",
       "    }\n",
       "\n",
       "    .dataframe thead th {\n",
       "        text-align: right;\n",
       "    }\n",
       "</style>\n",
       "<table border=\"1\" class=\"dataframe\">\n",
       "  <thead>\n",
       "    <tr style=\"text-align: right;\">\n",
       "      <th></th>\n",
       "      <th>Employee ID</th>\n",
       "      <th>Total Sessions</th>\n",
       "      <th>Jan - March Total Sessions</th>\n",
       "      <th>April Total Sessions</th>\n",
       "      <th>May Total Sessions</th>\n",
       "      <th>June Total Sessions</th>\n",
       "      <th>July Total Sessions</th>\n",
       "      <th>August Total Sessions</th>\n",
       "    </tr>\n",
       "  </thead>\n",
       "  <tbody>\n",
       "    <tr>\n",
       "      <th>0</th>\n",
       "      <td>213.0</td>\n",
       "      <td>300.0</td>\n",
       "      <td>40.0</td>\n",
       "      <td>44.0</td>\n",
       "      <td>56.0</td>\n",
       "      <td>41.0</td>\n",
       "      <td>2.0</td>\n",
       "      <td>117.0</td>\n",
       "    </tr>\n",
       "    <tr>\n",
       "      <th>1</th>\n",
       "      <td>425.0</td>\n",
       "      <td>451.0</td>\n",
       "      <td>0.0</td>\n",
       "      <td>32.0</td>\n",
       "      <td>92.0</td>\n",
       "      <td>81.0</td>\n",
       "      <td>101.0</td>\n",
       "      <td>145.0</td>\n",
       "    </tr>\n",
       "    <tr>\n",
       "      <th>2</th>\n",
       "      <td>427.0</td>\n",
       "      <td>674.0</td>\n",
       "      <td>154.0</td>\n",
       "      <td>69.0</td>\n",
       "      <td>153.0</td>\n",
       "      <td>72.0</td>\n",
       "      <td>63.0</td>\n",
       "      <td>163.0</td>\n",
       "    </tr>\n",
       "    <tr>\n",
       "      <th>3</th>\n",
       "      <td>429.0</td>\n",
       "      <td>394.0</td>\n",
       "      <td>17.0</td>\n",
       "      <td>37.0</td>\n",
       "      <td>97.0</td>\n",
       "      <td>67.0</td>\n",
       "      <td>79.0</td>\n",
       "      <td>97.0</td>\n",
       "    </tr>\n",
       "    <tr>\n",
       "      <th>4</th>\n",
       "      <td>430.0</td>\n",
       "      <td>471.0</td>\n",
       "      <td>155.0</td>\n",
       "      <td>36.0</td>\n",
       "      <td>116.0</td>\n",
       "      <td>60.0</td>\n",
       "      <td>65.0</td>\n",
       "      <td>97.0</td>\n",
       "    </tr>\n",
       "  </tbody>\n",
       "</table>\n",
       "</div>"
      ],
      "text/plain": [
       "   Employee ID  Total Sessions  Jan - March Total Sessions  \\\n",
       "0        213.0           300.0                        40.0   \n",
       "1        425.0           451.0                         0.0   \n",
       "2        427.0           674.0                       154.0   \n",
       "3        429.0           394.0                        17.0   \n",
       "4        430.0           471.0                       155.0   \n",
       "\n",
       "   April Total Sessions  May Total Sessions  June Total Sessions  \\\n",
       "0                  44.0                56.0                 41.0   \n",
       "1                  32.0                92.0                 81.0   \n",
       "2                  69.0               153.0                 72.0   \n",
       "3                  37.0                97.0                 67.0   \n",
       "4                  36.0               116.0                 60.0   \n",
       "\n",
       "   July Total Sessions  August Total Sessions  \n",
       "0                  2.0                  117.0  \n",
       "1                101.0                  145.0  \n",
       "2                 63.0                  163.0  \n",
       "3                 79.0                   97.0  \n",
       "4                 65.0                   97.0  "
      ]
     },
     "execution_count": 16,
     "metadata": {},
     "output_type": "execute_result"
    }
   ],
   "source": [
    "### The session tracker has the LC repeated many times as it's sessions per child. So here, I'm creating a df that has one record per each LC w/ total session columns per month.\n",
    "lc_sessions = session_tracker.groupby('Employee ID').agg({\n",
    "    'Total Sessions': 'sum',\n",
    "    'Jan - March Total Sessions': 'sum',\n",
    "    'April Total Sessions': 'sum',\n",
    "    'May Total Sessions': 'sum',\n",
    "    'June Total Sessions': 'sum',\n",
    "    'July Total Sessions': 'sum',\n",
    "    'August Total Sessions': 'sum'\n",
    "}).reset_index()\n",
    "\n",
    "# List of columns to convert\n",
    "columns_to_convert = [\n",
    "    'Jan - March Total Sessions', 'April Total Sessions', 'May Total Sessions', 'June Total Sessions', 'July Total Sessions', 'August Total Sessions'\n",
    "]\n",
    "\n",
    "# Convert each column to numeric\n",
    "for col in columns_to_convert:\n",
    "    session_tracker[col] = pd.to_numeric(session_tracker[col], errors='coerce')\n",
    "\n"
   ]
  },
  {
   "cell_type": "code",
   "execution_count": 18,
   "id": "d21ac86f-ccfb-4dd9-a8b2-68767eb31639",
   "metadata": {
    "tags": []
   },
   "outputs": [
    {
     "data": {
      "text/html": [
       "<div>\n",
       "<style scoped>\n",
       "    .dataframe tbody tr th:only-of-type {\n",
       "        vertical-align: middle;\n",
       "    }\n",
       "\n",
       "    .dataframe tbody tr th {\n",
       "        vertical-align: top;\n",
       "    }\n",
       "\n",
       "    .dataframe thead th {\n",
       "        text-align: right;\n",
       "    }\n",
       "</style>\n",
       "<table border=\"1\" class=\"dataframe\">\n",
       "  <thead>\n",
       "    <tr style=\"text-align: right;\">\n",
       "      <th></th>\n",
       "      <th>Current LC</th>\n",
       "      <th>School</th>\n",
       "      <th>Total Sessions</th>\n",
       "      <th>Jan - March Total Sessions</th>\n",
       "      <th>April Total Sessions</th>\n",
       "      <th>May Total Sessions</th>\n",
       "      <th>June Total Sessions</th>\n",
       "      <th>July Total Sessions</th>\n",
       "      <th>August Total Sessions</th>\n",
       "    </tr>\n",
       "  </thead>\n",
       "  <tbody>\n",
       "    <tr>\n",
       "      <th>0</th>\n",
       "      <td>Achuma Philani</td>\n",
       "      <td>Zukisa</td>\n",
       "      <td>113.0</td>\n",
       "      <td>0.0</td>\n",
       "      <td>0.0</td>\n",
       "      <td>25.0</td>\n",
       "      <td>23.0</td>\n",
       "      <td>23.0</td>\n",
       "      <td>42.0</td>\n",
       "    </tr>\n",
       "    <tr>\n",
       "      <th>1</th>\n",
       "      <td>Akhona Pita</td>\n",
       "      <td>Qaqawuli Godolozi</td>\n",
       "      <td>524.0</td>\n",
       "      <td>74.0</td>\n",
       "      <td>72.0</td>\n",
       "      <td>78.0</td>\n",
       "      <td>74.0</td>\n",
       "      <td>85.0</td>\n",
       "      <td>141.0</td>\n",
       "    </tr>\n",
       "    <tr>\n",
       "      <th>2</th>\n",
       "      <td>Alizwa Tsili</td>\n",
       "      <td>Sisonke</td>\n",
       "      <td>48.0</td>\n",
       "      <td>0.0</td>\n",
       "      <td>7.0</td>\n",
       "      <td>5.0</td>\n",
       "      <td>0.0</td>\n",
       "      <td>0.0</td>\n",
       "      <td>36.0</td>\n",
       "    </tr>\n",
       "    <tr>\n",
       "      <th>3</th>\n",
       "      <td>Alizwi Tsili</td>\n",
       "      <td>Sisonke</td>\n",
       "      <td>599.0</td>\n",
       "      <td>143.0</td>\n",
       "      <td>64.0</td>\n",
       "      <td>85.0</td>\n",
       "      <td>95.0</td>\n",
       "      <td>53.0</td>\n",
       "      <td>159.0</td>\n",
       "    </tr>\n",
       "    <tr>\n",
       "      <th>4</th>\n",
       "      <td>Anam Mabangula</td>\n",
       "      <td>Isaac Booi</td>\n",
       "      <td>320.0</td>\n",
       "      <td>33.0</td>\n",
       "      <td>27.0</td>\n",
       "      <td>70.0</td>\n",
       "      <td>24.0</td>\n",
       "      <td>28.0</td>\n",
       "      <td>138.0</td>\n",
       "    </tr>\n",
       "  </tbody>\n",
       "</table>\n",
       "</div>"
      ],
      "text/plain": [
       "       Current LC             School  Total Sessions  \\\n",
       "0  Achuma Philani             Zukisa           113.0   \n",
       "1     Akhona Pita  Qaqawuli Godolozi           524.0   \n",
       "2    Alizwa Tsili            Sisonke            48.0   \n",
       "3    Alizwi Tsili            Sisonke           599.0   \n",
       "4  Anam Mabangula         Isaac Booi           320.0   \n",
       "\n",
       "   Jan - March Total Sessions  April Total Sessions  May Total Sessions  \\\n",
       "0                         0.0                   0.0                25.0   \n",
       "1                        74.0                  72.0                78.0   \n",
       "2                         0.0                   7.0                 5.0   \n",
       "3                       143.0                  64.0                85.0   \n",
       "4                        33.0                  27.0                70.0   \n",
       "\n",
       "   June Total Sessions  July Total Sessions  August Total Sessions  \n",
       "0                 23.0                 23.0                   42.0  \n",
       "1                 74.0                 85.0                  141.0  \n",
       "2                  0.0                  0.0                   36.0  \n",
       "3                 95.0                 53.0                  159.0  \n",
       "4                 24.0                 28.0                  138.0  "
      ]
     },
     "execution_count": 18,
     "metadata": {},
     "output_type": "execute_result"
    }
   ],
   "source": [
    "### The session tracker has the LC repeated many times as it's sessions per child. So here, I'm creating a df that has one record per each LC w/ total session columns per month.\n",
    "lc_sessions_2 = session_tracker.groupby(['Current LC', 'School']).agg({\n",
    "    'Total Sessions': 'sum',\n",
    "    'Jan - March Total Sessions': 'sum',\n",
    "    'April Total Sessions': 'sum',\n",
    "    'May Total Sessions': 'sum',\n",
    "    'June Total Sessions': 'sum',\n",
    "    'July Total Sessions': 'sum',\n",
    "    'August Total Sessions': 'sum'\n",
    "}).reset_index()\n",
    "\n",
    "# List of columns to convert\n",
    "columns_to_convert = [\n",
    "    'Jan - March Total Sessions', 'April Total Sessions', 'May Total Sessions', 'June Total Sessions', 'July Total Sessions', 'August Total Sessions'\n",
    "]\n",
    "\n",
    "# Convert each column to numeric\n",
    "for col in columns_to_convert:\n",
    "    session_tracker[col] = pd.to_numeric(session_tracker[col], errors='coerce')\n",
    "\n",
    "lc_sessions_2.head()"
   ]
  },
  {
   "cell_type": "markdown",
   "id": "a00100ca-b8d0-4e20-91cf-95e02070fbf1",
   "metadata": {},
   "source": [
    "### Merging Sessions & Hours"
   ]
  },
  {
   "cell_type": "code",
   "execution_count": 28,
   "id": "5ac1d97f-3adf-4421-a3a6-03fafa6ac7f8",
   "metadata": {
    "tags": []
   },
   "outputs": [],
   "source": [
    "# merge sessions & youth hours\n",
    "youth_pay_sessions = pd.merge(lc_sessions, youth_hours, on='Employee ID', how='inner')\n",
    "# figure out which LCs weren't in merged / didn't have a match\n",
    "# missing_from_session_tracker = session_tracker[~session_tracker['Employee ID'].isin(merged_inner['Employee ID'])]\n",
    "# missing_from_youth_hours = youth_hours[~youth_hours['Employee ID'].isin(merged_inner['Employee ID'])]\n",
    "\n",
    "\n",
    "\n",
    "# Merging in other info from youth database\n",
    "youth_pay_sessions = youth_pay_sessions.merge(youth, on='Employee ID', how='left')\n",
    "\n"
   ]
  },
  {
   "cell_type": "code",
   "execution_count": 29,
   "id": "87d08ac7-a7f5-4c9c-b4f9-e088e5863a63",
   "metadata": {
    "tags": []
   },
   "outputs": [],
   "source": [
    "youth_pay_sessions['Sessions Thru July'] = youth_pay_sessions[\n",
    "    ['Jan - March Total Sessions', 'April Total Sessions', 'May Total Sessions', \n",
    "     'June Total Sessions', 'July Total Sessions']\n",
    "].sum(axis=1)\n",
    "\n",
    "youth_pay_sessions['Sessions Thru July'] = youth_pay_sessions[\n",
    "    ['Jan - March Total Sessions', 'April Total Sessions', 'May Total Sessions', \n",
    "     'June Total Sessions', 'July Total Sessions']\n",
    "].sum(axis=1)\n"
   ]
  },
  {
   "cell_type": "markdown",
   "id": "30818886-d91e-4df2-b86d-6b7a5c323c6a",
   "metadata": {},
   "source": [
    "### Merging in a couple more columns from the session tracker"
   ]
  },
  {
   "cell_type": "code",
   "execution_count": 30,
   "id": "dc79b538-0127-4ca9-863e-df8390f13ce7",
   "metadata": {
    "tags": []
   },
   "outputs": [],
   "source": [
    "agg_df = session_tracker.groupby('Employee ID').agg({\n",
    "    'Mcode': 'count',\n",
    "    'Total Sessions': 'mean'\n",
    "}).reset_index()\n",
    "\n",
    "agg_df.columns = ['Employee ID', 'Number of Kids', 'Avg Sessions per Kid']\n",
    "\n",
    "youth_pay_sessions = youth_pay_sessions.merge(agg_df, on='Employee ID', how='left')\n"
   ]
  },
  {
   "cell_type": "code",
   "execution_count": 31,
   "id": "029eeaea-90fe-4457-bc96-0b749efc8f42",
   "metadata": {
    "jupyter": {
     "source_hidden": true
    },
    "tags": []
   },
   "outputs": [
    {
     "data": {
      "text/plain": [
       "Index(['Employee ID', 'Basic Link', 'Office Link', 'Payments Link',\n",
       "       'First Names', 'Last Name', 'Employment Status', 'Mentor', 'Job Title',\n",
       "       'Site Placement', 'Site Type', 'Start Date', 'End Date', 'Pay Rate',\n",
       "       'Year of Service', 'Months Active', 'Reason for Leaving',\n",
       "       'Future Employer', 'Gender', 'Race', 'Cell Phone Number', 'Email',\n",
       "       'Street Number', 'Street Address', 'City or Town', 'Suburb/Township',\n",
       "       'Postal Code', 'DOB', 'ID Type', 'Foreign ID Number', 'RSA ID Number',\n",
       "       'Income Tax Number', 'Bank Name', 'Account type', 'Branch code',\n",
       "       'Account number', 'January - Stipend', 'February - Stipend',\n",
       "       'March - Stipend', 'April - Stipend', 'May - Stipend', 'June - Stipend',\n",
       "       'Total Youth Stipend Paid', 'Attachment: ID Document',\n",
       "       'Attachment: MOU/Contract', 'Attachment: Info Sheet',\n",
       "       'Attachment: SARS Notice of registration',\n",
       "       'Attachment: Change of Banking Form', 'Attachment: Resignation Letter',\n",
       "       'Days Link', 'June Days Worked', 'May Days Worked', 'April Days Worked',\n",
       "       'March Days Worked', 'Total Days Worked', 'March Expected Work Days',\n",
       "       'April Expected Work Days', 'May Expected Work Days',\n",
       "       'June Expected Work Days', 'Total Expected Days', '% Attendence',\n",
       "       'Mentor Code', 'Attachment: Bank Details', 'Basic Info - Email Status',\n",
       "       'Office Info - Email Status', 'July - Stipend', 'All Months'],\n",
       "      dtype='object')"
      ]
     },
     "execution_count": 31,
     "metadata": {},
     "output_type": "execute_result"
    }
   ],
   "source": [
    "youth.columns"
   ]
  },
  {
   "cell_type": "markdown",
   "id": "77cfa26a-5054-4277-9827-643f25220201",
   "metadata": {},
   "source": [
    "### This will print out a .csv with Per per Session and Sessions per Day"
   ]
  },
  {
   "cell_type": "code",
   "execution_count": 32,
   "id": "a8e38ac2-e082-48ad-907b-e021fd74b2c2",
   "metadata": {
    "tags": []
   },
   "outputs": [],
   "source": [
    "youth_pay_sessions['Pay per Session'] = youth_pay_sessions['Total - Stipend'] / youth_pay_sessions['Sessions Thru July']\n",
    "youth_pay_sessions['Sessions per Day'] = youth_pay_sessions['Sessions Thru July'] / youth_pay_sessions['Days Through July']\n",
    "\n",
    "\n",
    "youth_with_sessions = youth_pay_sessions[youth_pay_sessions['Sessions Thru July'] > 0]\n",
    "export_df = youth_with_sessions[['Employee ID', 'LC Name', 'Mentor', 'Site Placement', 'Site Type', 'Number of Kids', 'Avg Sessions per Kid', 'Sessions Thru July', 'Days Through July', 'Sessions per Day', 'Total - Stipend', 'Pay per Session', 'Jan - March Total Sessions', 'April Total Sessions', 'May Total Sessions', 'June Total Sessions', 'July Total Sessions', 'August Total Sessions']].sort_values('Sessions per Day', ascending=False)\n",
    "export_df.to_csv(\"pay_per_session.csv\", index=False)\n"
   ]
  },
  {
   "cell_type": "code",
   "execution_count": 35,
   "id": "e1687024-78ff-4dc0-ae3e-9410ace6fdd8",
   "metadata": {
    "tags": []
   },
   "outputs": [
    {
     "data": {
      "text/plain": [
       "Current LC\n",
       "Siphosethu Mxhasa     0\n",
       "Jasmine Lodewyk       1\n",
       "Alizwa Tsili          2\n",
       "Khanyiswa Kuhlane     2\n",
       "Phelelwe Nyoka        2\n",
       "                     ..\n",
       "Winnifred Walters    14\n",
       "Nandipha Putela      14\n",
       "Marizanne Mzangwa    15\n",
       "Zikhona Gomo         15\n",
       "Zintle Majola        15\n",
       "Name: Mcode, Length: 161, dtype: int64"
      ]
     },
     "execution_count": 35,
     "metadata": {},
     "output_type": "execute_result"
    }
   ],
   "source": [
    "session_tracker.groupby('Current LC')['Mcode'].count().sort_values()"
   ]
  },
  {
   "cell_type": "code",
   "execution_count": null,
   "id": "94af29c0-b288-4bf8-bc20-a753bbe8dec0",
   "metadata": {},
   "outputs": [],
   "source": []
  }
 ],
 "metadata": {
  "kernelspec": {
   "display_name": "Python 3 (ipykernel)",
   "language": "python",
   "name": "python3"
  },
  "language_info": {
   "codemirror_mode": {
    "name": "ipython",
    "version": 3
   },
   "file_extension": ".py",
   "mimetype": "text/x-python",
   "name": "python",
   "nbconvert_exporter": "python",
   "pygments_lexer": "ipython3",
   "version": "3.11.3"
  }
 },
 "nbformat": 4,
 "nbformat_minor": 5
}
