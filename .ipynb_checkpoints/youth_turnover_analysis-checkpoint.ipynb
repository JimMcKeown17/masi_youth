{
 "cells": [
  {
   "cell_type": "code",
   "execution_count": 18,
   "id": "2f61c33b-2a60-468a-83e9-345295a0c24a",
   "metadata": {
    "tags": []
   },
   "outputs": [
    {
     "name": "stderr",
     "output_type": "stream",
     "text": [
      "/Users/jimmckeown/anaconda3/lib/python3.11/site-packages/openpyxl/worksheet/_read_only.py:79: UserWarning: Unknown extension is not supported and will be removed\n",
      "  for idx, row in parser.parse():\n"
     ]
    }
   ],
   "source": [
    "import pandas as pd\n",
    "df = pd.read_csv(\"All Months-Days Worked Data.csv\")\n",
    "file_path = \"../Childrens Results/Results By Year/20230824- Children Database  - English Main.xlsx\"\n",
    "sheet_name = \"Children Results \"\n",
    "children = pd.read_excel(file_path, sheet_name=sheet_name)\n",
    "youth = pd.read_csv(\"20230904 - Combined Youth Data.csv\")\n",
    "youth = pd.read_csv(\"2023 Youth Hours & Days-Days Worked Data.csv\")\n",
    "youth = pd.read_csv(\"2023 Youth Stipends-Stipends Main Data.csv\")\n",
    "file_path = \"../Childrens Results/Results By Year/20230824- Children Database  - English Main.xlsx\"\n",
    "sheet_name = \"Children Results \"\n",
    "children = pd.read_excel(\"20230905 - Online Session Tracker w IDs.xlsx, sheet_name=sheet_name)\n"
   ]
  },
  {
   "cell_type": "code",
   "execution_count": 7,
   "id": "fa84d2ee-b81d-40fc-a766-275263cdd2f6",
   "metadata": {
    "tags": []
   },
   "outputs": [
    {
     "data": {
      "text/plain": [
       "Index(['Mcode', 'General Notes', 'School', 'City', 'Centre Type', 'Class',\n",
       "       'Teacher', 'Grade', 'Hub', 'Classlist Status', 'Language', 'Assessed',\n",
       "       'Surname', 'Name', 'Full Name', 'Gender', 'LC Name', 'On The Programme',\n",
       "       'Pair', 'Start Date', 'Total Sessions', 'Start Date Notes',\n",
       "       'Levels Notes', 'Sessions Notes', 'Assessments Notes',\n",
       "       'Beginning Level', 'Latest Level', 'Jan - Listen First Sound',\n",
       "       'Jan - Listen Word', 'Jan - Phonics', 'Jan - Blends',\n",
       "       'Jan - Sight Words', 'Jan - Read Sentences', 'Jan - Read Story',\n",
       "       'Jan - Story Comprehension', 'Jan - Written Letters',\n",
       "       'Jan - Write Name', 'Jan - Write CVCs', 'Jan - Write Sentences',\n",
       "       'Jan - Total', 'Captured By', 'June - Listen First Sound',\n",
       "       'June - Listen Word', 'June - Phonics', 'June - Blends',\n",
       "       'June - Sight Words', 'June - Read Sentences', 'June - Read Story',\n",
       "       'June - Story Comprehension', 'June - Written Letters',\n",
       "       'June - Write Name', 'June - Write CVCs', 'June - Write Sentences',\n",
       "       'June - Total'],\n",
       "      dtype='object')"
      ]
     },
     "execution_count": 7,
     "metadata": {},
     "output_type": "execute_result"
    }
   ],
   "source": [
    "children.columns"
   ]
  },
  {
   "cell_type": "code",
   "execution_count": 5,
   "id": "2f200418-df2b-4b02-b153-a06ea1d54b89",
   "metadata": {
    "tags": []
   },
   "outputs": [],
   "source": [
    "df['Total Days Worked'] = df['March - Days'] + df['April - Days'] + df['May - Days'] + df['June - Days'] + df['July - Days'] + df['August - Days']"
   ]
  },
  {
   "cell_type": "code",
   "execution_count": 9,
   "id": "b72101f3-718e-4691-9add-a3c620d4d971",
   "metadata": {
    "tags": []
   },
   "outputs": [],
   "source": [
    "sessions_df = children.groupby('LC Name')['Total Sessions'].sum().reset_index()\n",
    "sessions_df.set_index('LC Name', inplace=True)\n"
   ]
  },
  {
   "cell_type": "code",
   "execution_count": 10,
   "id": "0da03997-0411-4979-892a-4ef88b044c6e",
   "metadata": {
    "tags": []
   },
   "outputs": [
    {
     "data": {
      "text/plain": [
       "Index(['Employee ID', 'Combined Link', 'Stipends Link', 'First Names',\n",
       "       'Last Name', 'Employment Status', 'Year of Service', 'Job Title',\n",
       "       'Aug Pay Rate', 'Start Date', 'March - Days', 'March - Hours',\n",
       "       'March - Stipend', 'March Stipend Amount', 'March Amount Diff',\n",
       "       'April - Days', 'April - Hours', 'April - Stipend',\n",
       "       'April Stipend Amount', 'April Amount Diff', 'May - Days',\n",
       "       'May - Hours', 'May - Stipend', 'May Stipend Amount', 'June - Days',\n",
       "       'June - Hours', 'June - Stipend', 'June Stipend Amount', 'July - Days',\n",
       "       'July - Hours', 'July - Stipend', 'July Stipend Amount',\n",
       "       'August - Days', 'August - Hours', 'End Date'],\n",
       "      dtype='object')"
      ]
     },
     "execution_count": 10,
     "metadata": {},
     "output_type": "execute_result"
    }
   ],
   "source": [
    "df.columns"
   ]
  },
  {
   "cell_type": "markdown",
   "id": "8673cf27-1eff-498a-87e5-0deed49f813f",
   "metadata": {},
   "source": [
    "# Looking at some turnover stats"
   ]
  },
  {
   "cell_type": "markdown",
   "id": "746139e7-9498-4075-86fb-c46d695f742b",
   "metadata": {
    "tags": []
   },
   "source": [
    "### Youth that started in 2023"
   ]
  },
  {
   "cell_type": "code",
   "execution_count": 19,
   "id": "27c01990-172b-4819-a0f0-ab77ed03ad19",
   "metadata": {
    "tags": []
   },
   "outputs": [
    {
     "name": "stdout",
     "output_type": "stream",
     "text": [
      "Turnover rate for youths who started in 2023: 22.58%\n",
      "            Job Title  Average Months Active  Turnover Rate\n",
      "0  1000 Stories Youth               2.869565      39.130435\n",
      "1       EduTech Coach               4.166667      33.333333\n",
      "2      Literacy Coach               4.620438      23.357664\n",
      "3  Sport & Arts Coach               4.500000      25.000000\n",
      "4            Yeboneer               5.183486      17.431193\n"
     ]
    }
   ],
   "source": [
    "import pandas as pd\n",
    "\n",
    "\n",
    "# Convert Start Date and End Date columns to datetime format\n",
    "youth['Start Date'] = pd.to_datetime(youth['Start Date'])\n",
    "youth['End Date'].fillna(pd.Timestamp.today(), inplace=True)  # Fill missing End Dates with today's date\n",
    "youth['End Date'] = pd.to_datetime(youth['End Date'])\n",
    "\n",
    "# Calculate number of months active for each youth using years and months\n",
    "youth['Months Active'] = (youth['End Date'].dt.year - youth['Start Date'].dt.year) * 12 + \\\n",
    "                        (youth['End Date'].dt.month - youth['Start Date'].dt.month)\n",
    "\n",
    "# Filter youths that started in 2023 and exclude those with 'Did Not Start' in the 'Reason for Leaving' column\n",
    "youth_2023 = youth[youth['Start Date'].dt.year == 2023]\n",
    "youth_2023_excluded = youth_2023[youth_2023['Reason for Leaving'] != 'Did Not Start']\n",
    "\n",
    "# Calculate turnover rate for youths that started in 2023 excluding 'Did Not Start'\n",
    "total_youth_2023_excluded = len(youth_2023_excluded)\n",
    "youth_2023_excluded_left = len(youth_2023_excluded[youth_2023_excluded['End Date'].dt.date != pd.Timestamp.today().date()])\n",
    "turnover_rate_2023_excluded = (youth_2023_excluded_left / total_youth_2023_excluded) * 100\n",
    "\n",
    "print(f\"Turnover rate for youths who started in 2023: {turnover_rate_2023_excluded:.2f}%\")\n",
    "\n",
    "# Breakdown by Job Title\n",
    "grouped_data = youth_2023_excluded.groupby('Job Title').apply(lambda x: pd.Series({\n",
    "    'Average Months Active': x['Months Active'].mean(),\n",
    "    'Turnover Rate': (len(x[x['End Date'].dt.date != pd.Timestamp.today().date()]) / len(x)) * 100\n",
    "})).reset_index()\n",
    "\n",
    "print(grouped_data)\n"
   ]
  },
  {
   "cell_type": "markdown",
   "id": "4b297a46-ec76-4571-a370-aa12d5e9b40f",
   "metadata": {},
   "source": [
    "### All Youth That Worked in 2023"
   ]
  },
  {
   "cell_type": "code",
   "execution_count": 41,
   "id": "5cf9149c-eb44-4452-9b4e-987bdce98c0d",
   "metadata": {
    "tags": []
   },
   "outputs": [
    {
     "name": "stdout",
     "output_type": "stream",
     "text": [
      "Turnover rate for youths who worked in 2023: 22.58%\n"
     ]
    },
    {
     "data": {
      "text/html": [
       "<div>\n",
       "<style scoped>\n",
       "    .dataframe tbody tr th:only-of-type {\n",
       "        vertical-align: middle;\n",
       "    }\n",
       "\n",
       "    .dataframe tbody tr th {\n",
       "        vertical-align: top;\n",
       "    }\n",
       "\n",
       "    .dataframe thead th {\n",
       "        text-align: right;\n",
       "    }\n",
       "</style>\n",
       "<table border=\"1\" class=\"dataframe\">\n",
       "  <thead>\n",
       "    <tr style=\"text-align: right;\">\n",
       "      <th></th>\n",
       "      <th>Job Title</th>\n",
       "      <th>Number of Youth</th>\n",
       "      <th>Average Months Active</th>\n",
       "      <th>Turnover Rate</th>\n",
       "    </tr>\n",
       "  </thead>\n",
       "  <tbody>\n",
       "    <tr>\n",
       "      <th>0</th>\n",
       "      <td>1000 Stories Youth</td>\n",
       "      <td>37.0</td>\n",
       "      <td>2.9</td>\n",
       "      <td>24.3</td>\n",
       "    </tr>\n",
       "    <tr>\n",
       "      <th>1</th>\n",
       "      <td>EduTech Coach</td>\n",
       "      <td>10.0</td>\n",
       "      <td>13.1</td>\n",
       "      <td>30.0</td>\n",
       "    </tr>\n",
       "    <tr>\n",
       "      <th>2</th>\n",
       "      <td>Librarian</td>\n",
       "      <td>13.0</td>\n",
       "      <td>21.6</td>\n",
       "      <td>53.8</td>\n",
       "    </tr>\n",
       "    <tr>\n",
       "      <th>3</th>\n",
       "      <td>Literacy Coach</td>\n",
       "      <td>209.0</td>\n",
       "      <td>9.5</td>\n",
       "      <td>23.4</td>\n",
       "    </tr>\n",
       "    <tr>\n",
       "      <th>4</th>\n",
       "      <td>Sport &amp; Arts Coach</td>\n",
       "      <td>6.0</td>\n",
       "      <td>5.6</td>\n",
       "      <td>16.7</td>\n",
       "    </tr>\n",
       "    <tr>\n",
       "      <th>5</th>\n",
       "      <td>Yeboneer</td>\n",
       "      <td>113.0</td>\n",
       "      <td>5.2</td>\n",
       "      <td>16.8</td>\n",
       "    </tr>\n",
       "  </tbody>\n",
       "</table>\n",
       "</div>"
      ],
      "text/plain": [
       "            Job Title  Number of Youth  Average Months Active  Turnover Rate\n",
       "0  1000 Stories Youth             37.0                    2.9           24.3\n",
       "1       EduTech Coach             10.0                   13.1           30.0\n",
       "2           Librarian             13.0                   21.6           53.8\n",
       "3      Literacy Coach            209.0                    9.5           23.4\n",
       "4  Sport & Arts Coach              6.0                    5.6           16.7\n",
       "5            Yeboneer            113.0                    5.2           16.8"
      ]
     },
     "execution_count": 41,
     "metadata": {},
     "output_type": "execute_result"
    }
   ],
   "source": [
    "# Filter youths that either ended their employment in 2023 or are still working (no 'End Date')\n",
    "youth_2023_pool = youth[(youth['End Date'].dt.year == 2023) | (youth['End Date'].dt.date == pd.Timestamp.today().date())]\n",
    "\n",
    "# Exclude those with 'Did Not Start' in the 'Reason for Leaving' column\n",
    "youth_2023_pool_excluded = youth_2023_pool[youth_2023_pool['Reason for Leaving'] != 'Did Not Start']\n",
    "\n",
    "# Calculate turnover rate for the pool of youths for 2023 excluding 'Did Not Start'\n",
    "total_youth_2023_pool_excluded = len(youth_2023_pool_excluded)\n",
    "youth_2023_pool_excluded_left = len(youth_2023_pool_excluded[youth_2023_pool_excluded['End Date'].dt.date != pd.Timestamp.today().date()])\n",
    "turnover_rate_2023_pool_excluded = (youth_2023_pool_excluded_left / total_youth_2023_pool_excluded) * 100\n",
    "\n",
    "# Amend the grouped_data calculation to include a count of youth for each 'Job Title'\n",
    "grouped_data_2023_pool_with_count = youth_2023_pool_excluded.groupby('Job Title').apply(lambda x: pd.Series({\n",
    "    'Number of Youth': len(x),\n",
    "    'Average Months Active': x['Months Active'].mean(),\n",
    "    'Turnover Rate': (len(x[x['End Date'].dt.date != pd.Timestamp.today().date()]) / len(x)) * 100\n",
    "})).reset_index()\n",
    "\n",
    "print(f\"Turnover rate for youths who worked in 2023: {turnover_rate_2023_excluded:.2f}%\")\n",
    "\n",
    "\n",
    "# Round the 'Average Months Active' and 'Turnover Rate' to one decimal\n",
    "grouped_data_2023_pool_with_count['Average Months Active'] = grouped_data_2023_pool_with_count['Average Months Active'].round(1)\n",
    "grouped_data_2023_pool_with_count['Turnover Rate'] = grouped_data_2023_pool_with_count['Turnover Rate'].round(1)\n",
    "\n",
    "grouped_data_2023_pool_with_count\n"
   ]
  },
  {
   "cell_type": "markdown",
   "id": "eace6ec7-2b1f-499e-89f1-c81ebaf21b11",
   "metadata": {
    "tags": []
   },
   "source": [
    "### 2022 Turnover Numbers relative to today."
   ]
  },
  {
   "cell_type": "code",
   "execution_count": 39,
   "id": "6a78eedf-bf87-4844-aa7a-4413f75254d7",
   "metadata": {
    "tags": []
   },
   "outputs": [
    {
     "name": "stdout",
     "output_type": "stream",
     "text": [
      "            Job Title  Number of Youth  Average Months Active  Turnover Rate\n",
      "0       EduTech Coach              4.0                    8.0           75.0\n",
      "1           Librarian              6.0                   16.2           33.3\n",
      "2      Literacy Coach            105.0                   10.5           64.8\n",
      "3  Sport & Arts Coach              1.0                   10.0            0.0\n",
      "4            Yeboneer            107.0                    5.1          100.0\n"
     ]
    }
   ],
   "source": [
    "# Filter youths that started between January and October of 2022\n",
    "youth_2022 = youth[(youth['Start Date'].dt.year == 2022)]\n",
    "\n",
    "# Calculate turnover rate for youths that started between January and October of 2022\n",
    "total_youth_2022 = len(youth_2022)\n",
    "youth_2022_left = len(youth_2022[youth_2022['End Date'].dt.date != pd.Timestamp.today().date()])\n",
    "turnover_rate_2022 = (youth_2022_left / total_youth_2022) * 100\n",
    "\n",
    "# Update the grouped_data calculation for 2022 data\n",
    "grouped_data_2022 = youth_2022.groupby('Job Title').apply(lambda x: pd.Series({\n",
    "    'Number of Youth': len(x),\n",
    "    'Average Months Active': x['Months Active'].mean(),\n",
    "    'Turnover Rate': (len(x[x['End Date'].dt.date != pd.Timestamp.today().date()]) / len(x)) * 100\n",
    "})).reset_index()\n",
    "\n",
    "# Round the 'Average Months Active' and 'Turnover Rate' to one decimal\n",
    "grouped_data_2022['Average Months Active'] = grouped_data_2022['Average Months Active'].round(1)\n",
    "grouped_data_2022['Turnover Rate'] = grouped_data_2022['Turnover Rate'].round(1)\n",
    "\n",
    "print(grouped_data_2022)"
   ]
  },
  {
   "cell_type": "code",
   "execution_count": 32,
   "id": "7e1f9d9e-d117-4bfd-9d50-5655d6c3cd1c",
   "metadata": {
    "tags": []
   },
   "outputs": [
    {
     "data": {
      "text/html": [
       "<div>\n",
       "<style scoped>\n",
       "    .dataframe tbody tr th:only-of-type {\n",
       "        vertical-align: middle;\n",
       "    }\n",
       "\n",
       "    .dataframe tbody tr th {\n",
       "        vertical-align: top;\n",
       "    }\n",
       "\n",
       "    .dataframe thead th {\n",
       "        text-align: right;\n",
       "    }\n",
       "</style>\n",
       "<table border=\"1\" class=\"dataframe\">\n",
       "  <thead>\n",
       "    <tr style=\"text-align: right;\">\n",
       "      <th></th>\n",
       "      <th>Job Title</th>\n",
       "      <th>Number of Youth</th>\n",
       "      <th>Average Months Active</th>\n",
       "      <th>Turnover Rate</th>\n",
       "    </tr>\n",
       "  </thead>\n",
       "  <tbody>\n",
       "    <tr>\n",
       "      <th>0</th>\n",
       "      <td>EduTech Coach</td>\n",
       "      <td>4.0</td>\n",
       "      <td>8.000000</td>\n",
       "      <td>50.000000</td>\n",
       "    </tr>\n",
       "    <tr>\n",
       "      <th>1</th>\n",
       "      <td>Librarian</td>\n",
       "      <td>6.0</td>\n",
       "      <td>16.166667</td>\n",
       "      <td>0.000000</td>\n",
       "    </tr>\n",
       "    <tr>\n",
       "      <th>2</th>\n",
       "      <td>Literacy Coach</td>\n",
       "      <td>105.0</td>\n",
       "      <td>10.466667</td>\n",
       "      <td>23.809524</td>\n",
       "    </tr>\n",
       "    <tr>\n",
       "      <th>3</th>\n",
       "      <td>Yeboneer</td>\n",
       "      <td>107.0</td>\n",
       "      <td>5.121495</td>\n",
       "      <td>30.841121</td>\n",
       "    </tr>\n",
       "  </tbody>\n",
       "</table>\n",
       "</div>"
      ],
      "text/plain": [
       "        Job Title  Number of Youth  Average Months Active  Turnover Rate\n",
       "0   EduTech Coach              4.0               8.000000      50.000000\n",
       "1       Librarian              6.0              16.166667       0.000000\n",
       "2  Literacy Coach            105.0              10.466667      23.809524\n",
       "3        Yeboneer            107.0               5.121495      30.841121"
      ]
     },
     "execution_count": 32,
     "metadata": {},
     "output_type": "execute_result"
    }
   ],
   "source": [
    "# Filter youths that started between January and October of 2022\n",
    "youth_2022 = youth[(youth['Start Date'].dt.year == 2022) & (youth['Start Date'].dt.month <= 10)]\n",
    "\n",
    "# Calculate turnover rate for youths that started between January and October of 2022\n",
    "total_youth_2022 = len(youth_2022)\n",
    "youth_2022_left = len(youth_2022[youth_2022['End Date'].dt.date < pd.to_datetime(\"2022/11/15\").date()])\n",
    "turnover_rate_2022 = (youth_2022_left / total_youth_2022) * 100\n",
    "\n",
    "# Update the grouped_data calculation for 2022 data\n",
    "grouped_data_2022_nov = youth_2022.groupby('Job Title').apply(lambda x: pd.Series({\n",
    "    'Number of Youth': len(x),\n",
    "    'Average Months Active': x['Months Active'].mean(),\n",
    "    'Turnover Rate': (len(x[x['End Date'].dt.date < pd.to_datetime(\"2022/11/15\").date()]) / len(x)) * 100\n",
    "})).reset_index()\n",
    "\n",
    "grouped_data_2022_nov\n",
    "\n"
   ]
  },
  {
   "cell_type": "markdown",
   "id": "805deeb6-04a8-4387-9e23-a3ee04f8dcc8",
   "metadata": {},
   "source": [
    "### Including 2020, 2021, and 2022"
   ]
  },
  {
   "cell_type": "code",
   "execution_count": 40,
   "id": "749f1d9d-ab97-4b7c-9ba8-a1a9f652791d",
   "metadata": {
    "tags": []
   },
   "outputs": [
    {
     "name": "stdout",
     "output_type": "stream",
     "text": [
      "28.000000000000004\n"
     ]
    },
    {
     "data": {
      "text/html": [
       "<div>\n",
       "<style scoped>\n",
       "    .dataframe tbody tr th:only-of-type {\n",
       "        vertical-align: middle;\n",
       "    }\n",
       "\n",
       "    .dataframe tbody tr th {\n",
       "        vertical-align: top;\n",
       "    }\n",
       "\n",
       "    .dataframe thead th {\n",
       "        text-align: right;\n",
       "    }\n",
       "</style>\n",
       "<table border=\"1\" class=\"dataframe\">\n",
       "  <thead>\n",
       "    <tr style=\"text-align: right;\">\n",
       "      <th></th>\n",
       "      <th>Job Title</th>\n",
       "      <th>Number of Youth</th>\n",
       "      <th>Average Months Active</th>\n",
       "      <th>Turnover Rate</th>\n",
       "    </tr>\n",
       "  </thead>\n",
       "  <tbody>\n",
       "    <tr>\n",
       "      <th>0</th>\n",
       "      <td>EduTech Coach</td>\n",
       "      <td>7.0</td>\n",
       "      <td>17.9</td>\n",
       "      <td>28.6</td>\n",
       "    </tr>\n",
       "    <tr>\n",
       "      <th>1</th>\n",
       "      <td>Librarian</td>\n",
       "      <td>19.0</td>\n",
       "      <td>23.5</td>\n",
       "      <td>5.3</td>\n",
       "    </tr>\n",
       "    <tr>\n",
       "      <th>2</th>\n",
       "      <td>Literacy Coach</td>\n",
       "      <td>141.0</td>\n",
       "      <td>14.9</td>\n",
       "      <td>29.1</td>\n",
       "    </tr>\n",
       "    <tr>\n",
       "      <th>3</th>\n",
       "      <td>Sport &amp; Arts Coach</td>\n",
       "      <td>1.0</td>\n",
       "      <td>10.0</td>\n",
       "      <td>0.0</td>\n",
       "    </tr>\n",
       "    <tr>\n",
       "      <th>4</th>\n",
       "      <td>Yeboneer</td>\n",
       "      <td>107.0</td>\n",
       "      <td>5.1</td>\n",
       "      <td>30.8</td>\n",
       "    </tr>\n",
       "  </tbody>\n",
       "</table>\n",
       "</div>"
      ],
      "text/plain": [
       "            Job Title  Number of Youth  Average Months Active  Turnover Rate\n",
       "0       EduTech Coach              7.0                   17.9           28.6\n",
       "1           Librarian             19.0                   23.5            5.3\n",
       "2      Literacy Coach            141.0                   14.9           29.1\n",
       "3  Sport & Arts Coach              1.0                   10.0            0.0\n",
       "4            Yeboneer            107.0                    5.1           30.8"
      ]
     },
     "execution_count": 40,
     "metadata": {},
     "output_type": "execute_result"
    }
   ],
   "source": [
    "# Filter youths that worked in 2022 (note this logic only works b/c Tumelo's database starts w/ youth that worked in 2022\n",
    "youth_2020_to_2022 = youth[youth['Start Date'].dt.year.isin([2020, 2021, 2022]) & \n",
    "                          (youth['Start Date'].dt.month <= 12) | \n",
    "                          (youth['Start Date'].dt.year < 2022)]\n",
    "\n",
    "# Calculate turnover rate for youths that started between January 2020 and October 2022\n",
    "total_youth_2020_to_2022 = len(youth_2020_to_2022)\n",
    "youth_2020_to_2022_left = len(youth_2020_to_2022[youth_2020_to_2022['End Date'].dt.date < pd.to_datetime(\"2022/11/15\").date()])\n",
    "turnover_rate_2020_to_2022 = (youth_2020_to_2022_left / total_youth_2020_to_2022) * 100\n",
    "\n",
    "# Update the grouped_data calculation for 2020 to 2022 data\n",
    "grouped_data_2020_to_2022_nov = youth_2020_to_2022.groupby('Job Title').apply(lambda x: pd.Series({\n",
    "    'Number of Youth': len(x),\n",
    "    'Average Months Active': x['Months Active'].mean(),\n",
    "    'Turnover Rate': (len(x[x['End Date'].dt.date < pd.to_datetime(\"2022/11/15\").date()]) / len(x)) * 100\n",
    "})).reset_index()\n",
    "\n",
    "# Round the 'Average Months Active' and 'Turnover Rate' to one decimal\n",
    "grouped_data_2020_to_2022_nov['Average Months Active'] = grouped_data_2020_to_2022_nov['Average Months Active'].round(1)\n",
    "grouped_data_2020_to_2022_nov['Turnover Rate'] = grouped_data_2020_to_2022_nov['Turnover Rate'].round(1)\n",
    "\n",
    "print(turnover_rate_2020_to_2022)\n",
    "grouped_data_2020_to_2022_nov\n"
   ]
  },
  {
   "cell_type": "markdown",
   "id": "6cb1b5d0-c0a3-4eb4-b1d5-7d926c8a41b7",
   "metadata": {},
   "source": [
    "### Figuring out the % of youth that have worked 6 months or longer."
   ]
  },
  {
   "cell_type": "code",
   "execution_count": 27,
   "id": "7f69f088-239a-4aae-bad7-670e5e10f110",
   "metadata": {
    "tags": []
   },
   "outputs": [
    {
     "data": {
      "text/plain": [
       "70.7943925233645"
      ]
     },
     "execution_count": 27,
     "metadata": {},
     "output_type": "execute_result"
    }
   ],
   "source": [
    "# Calculate the cutoff date for 6 months earlier than today\n",
    "cutoff_date = pd.Timestamp.today() - pd.Timedelta(days=6*30)  # Using an approximate value of 30 days per month\n",
    "\n",
    "# Filter out youth who started after the cutoff date\n",
    "youth_before_cutoff = youth[youth['Start Date'] < cutoff_date]\n",
    "\n",
    "# Calculate the number of youth who have worked 6 months or longer\n",
    "youth_worked_6_months_or_longer = len(youth_before_cutoff[youth_before_cutoff['Months Active'] >= 6])\n",
    "\n",
    "# Calculate the percentage of all youth that have worked 6 months or longer\n",
    "percentage_worked_6_months_or_longer = (youth_worked_6_months_or_longer / len(youth_before_cutoff)) * 100\n",
    "\n",
    "percentage_worked_6_months_or_longer\n"
   ]
  },
  {
   "cell_type": "code",
   "execution_count": null,
   "id": "8ca9a3d0-7d10-43a4-9908-6a17f2ac363c",
   "metadata": {},
   "outputs": [],
   "source": []
  },
  {
   "cell_type": "code",
   "execution_count": null,
   "id": "1e553654-2107-4a79-b9f3-37c04cd3238b",
   "metadata": {},
   "outputs": [],
   "source": []
  }
 ],
 "metadata": {
  "kernelspec": {
   "display_name": "Python 3 (ipykernel)",
   "language": "python",
   "name": "python3"
  },
  "language_info": {
   "codemirror_mode": {
    "name": "ipython",
    "version": 3
   },
   "file_extension": ".py",
   "mimetype": "text/x-python",
   "name": "python",
   "nbconvert_exporter": "python",
   "pygments_lexer": "ipython3",
   "version": "3.11.3"
  }
 },
 "nbformat": 4,
 "nbformat_minor": 5
}
