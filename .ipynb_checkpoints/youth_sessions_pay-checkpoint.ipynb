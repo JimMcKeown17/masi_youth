{
 "cells": [
  {
   "cell_type": "code",
   "execution_count": 9,
   "id": "2f61c33b-2a60-468a-83e9-345295a0c24a",
   "metadata": {
    "tags": []
   },
   "outputs": [
    {
     "name": "stderr",
     "output_type": "stream",
     "text": [
      "/Users/jimmckeown/anaconda3/lib/python3.11/site-packages/openpyxl/worksheet/_read_only.py:79: UserWarning: Unknown extension is not supported and will be removed\n",
      "  for idx, row in parser.parse():\n"
     ]
    }
   ],
   "source": [
    "import pandas as pd\n",
    "import numpy as np\n",
    "df = pd.read_csv(\"All Months-Days Worked Data.csv\")\n",
    "file_path = \"../Childrens Results/Results By Year/20230824- Children Database  - English Main.xlsx\"\n",
    "sheet_name = \"Children Results \"\n",
    "children = pd.read_excel(file_path, sheet_name=sheet_name)\n",
    "youth = pd.read_csv(\"20230905 - Combined Youth Data.csv\")\n",
    "youth_hours = pd.read_csv(\"2023 Youth Hours & Days-Days Worked Data.csv\")\n",
    "youth_stipends = pd.read_csv(\"2023 Youth Stipends-Stipends Main Data.csv\")\n",
    "session_tracker = pd.read_excel(\"20230905 - Online Session Tracker w IDs.xlsx\", sheet_name=\"Sheet1\")\n"
   ]
  },
  {
   "cell_type": "code",
   "execution_count": 13,
   "id": "fa84d2ee-b81d-40fc-a766-275263cdd2f6",
   "metadata": {
    "tags": []
   },
   "outputs": [
    {
     "data": {
      "text/plain": [
       "Index(['Mcode', 'School', 'City', 'Mentor', 'Grade', 'On the Programme',\n",
       "       'Surname', 'Name', 'LC Name', 'Employee ID', 'Start Date',\n",
       "       'Total Sessions', 'Jan - March Total Sessions', 'Jan - March Level',\n",
       "       'April Total Sessions', 'April Level', 'May Total Sessions',\n",
       "       'May Level', 'June Total Sessions', 'June level', 'July Total Sessions',\n",
       "       'July Level', 'August Total Sessions', 'August Level',\n",
       "       'September Total Sessions', 'September Level', 'October Total Sessions',\n",
       "       'October Level', 'November Total Sessions', 'November Level'],\n",
       "      dtype='object')"
      ]
     },
     "execution_count": 13,
     "metadata": {},
     "output_type": "execute_result"
    }
   ],
   "source": [
    "session_tracker.columns"
   ]
  },
  {
   "cell_type": "code",
   "execution_count": 11,
   "id": "59f75981-4e00-46f2-b616-32844a2a6fa8",
   "metadata": {
    "tags": []
   },
   "outputs": [],
   "source": [
    "# Calculate 'Total - Hours', 'Total - Days', and 'Total - Stipend' columns\n",
    "youth_hours['Total - Hours'] = youth_hours[['March - Hours', 'April - Hours', 'May - Hours', 'June - Hours', 'July - Hours']].sum(axis=1)\n",
    "youth_hours['Total - Days'] = youth_hours[['March - Days', 'April - Days', 'May - Days', 'June - Days', 'July - Days']].sum(axis=1)\n",
    "youth_hours['Total - Stipend'] = youth_hours[['March - Stipend', 'April - Stipend', 'May - Stipend', 'June - Stipend', 'July - Stipend']].sum(axis=1)\n"
   ]
  },
  {
   "cell_type": "markdown",
   "id": "9d243ffe-6db9-418d-bbc9-e00cadba1ee0",
   "metadata": {},
   "source": [
    "#### Create LC Sessions Database"
   ]
  },
  {
   "cell_type": "code",
   "execution_count": 17,
   "id": "583644a7-7760-47d4-99d6-1efff3593e72",
   "metadata": {
    "tags": []
   },
   "outputs": [
    {
     "data": {
      "text/html": [
       "<div>\n",
       "<style scoped>\n",
       "    .dataframe tbody tr th:only-of-type {\n",
       "        vertical-align: middle;\n",
       "    }\n",
       "\n",
       "    .dataframe tbody tr th {\n",
       "        vertical-align: top;\n",
       "    }\n",
       "\n",
       "    .dataframe thead th {\n",
       "        text-align: right;\n",
       "    }\n",
       "</style>\n",
       "<table border=\"1\" class=\"dataframe\">\n",
       "  <thead>\n",
       "    <tr style=\"text-align: right;\">\n",
       "      <th></th>\n",
       "      <th>Employee ID</th>\n",
       "      <th>Total Sessions</th>\n",
       "      <th>Jan - March Total Sessions</th>\n",
       "      <th>April Total Sessions</th>\n",
       "      <th>May Total Sessions</th>\n",
       "      <th>June Total Sessions</th>\n",
       "      <th>July Total Sessions</th>\n",
       "      <th>August Total Sessions</th>\n",
       "    </tr>\n",
       "  </thead>\n",
       "  <tbody>\n",
       "    <tr>\n",
       "      <th>0</th>\n",
       "      <td>213</td>\n",
       "      <td>226.0</td>\n",
       "      <td>40.0</td>\n",
       "      <td>44.0</td>\n",
       "      <td>56.0</td>\n",
       "      <td>41.0</td>\n",
       "      <td>2.0</td>\n",
       "      <td>43.0</td>\n",
       "    </tr>\n",
       "    <tr>\n",
       "      <th>1</th>\n",
       "      <td>425</td>\n",
       "      <td>92.0</td>\n",
       "      <td>0.0</td>\n",
       "      <td>32.0</td>\n",
       "      <td>92.0</td>\n",
       "      <td>85.0</td>\n",
       "      <td>104.0</td>\n",
       "      <td>0.0</td>\n",
       "    </tr>\n",
       "    <tr>\n",
       "      <th>2</th>\n",
       "      <td>427</td>\n",
       "      <td>0.0</td>\n",
       "      <td>199.0</td>\n",
       "      <td>83.0</td>\n",
       "      <td>188.0</td>\n",
       "      <td>84.0</td>\n",
       "      <td>72.0</td>\n",
       "      <td>0.0</td>\n",
       "    </tr>\n",
       "    <tr>\n",
       "      <th>3</th>\n",
       "      <td>429</td>\n",
       "      <td>0.0</td>\n",
       "      <td>17.0</td>\n",
       "      <td>37.0</td>\n",
       "      <td>97.0</td>\n",
       "      <td>67.0</td>\n",
       "      <td>79.0</td>\n",
       "      <td>0.0</td>\n",
       "    </tr>\n",
       "    <tr>\n",
       "      <th>4</th>\n",
       "      <td>430</td>\n",
       "      <td>397.0</td>\n",
       "      <td>146.0</td>\n",
       "      <td>36.0</td>\n",
       "      <td>104.0</td>\n",
       "      <td>58.0</td>\n",
       "      <td>53.0</td>\n",
       "      <td>0.0</td>\n",
       "    </tr>\n",
       "  </tbody>\n",
       "</table>\n",
       "</div>"
      ],
      "text/plain": [
       "  Employee ID  Total Sessions  Jan - March Total Sessions  \\\n",
       "0         213           226.0                        40.0   \n",
       "1         425            92.0                         0.0   \n",
       "2         427             0.0                       199.0   \n",
       "3         429             0.0                        17.0   \n",
       "4         430           397.0                       146.0   \n",
       "\n",
       "   April Total Sessions  May Total Sessions  June Total Sessions  \\\n",
       "0                  44.0                56.0                 41.0   \n",
       "1                  32.0                92.0                 85.0   \n",
       "2                  83.0               188.0                 84.0   \n",
       "3                  37.0                97.0                 67.0   \n",
       "4                  36.0               104.0                 58.0   \n",
       "\n",
       "   July Total Sessions  August Total Sessions  \n",
       "0                  2.0                   43.0  \n",
       "1                104.0                    0.0  \n",
       "2                 72.0                    0.0  \n",
       "3                 79.0                    0.0  \n",
       "4                 53.0                    0.0  "
      ]
     },
     "execution_count": 17,
     "metadata": {},
     "output_type": "execute_result"
    }
   ],
   "source": [
    "### The session tracker has the LC repeated many times as it's sessions per child. So here, I'm creating a df that has one record per each LC w/ total session columns per month.\n",
    "lc_sessions = session_tracker.groupby('Employee ID').agg({\n",
    "    'Total Sessions': 'sum',\n",
    "    'Jan - March Total Sessions': 'sum',\n",
    "    'April Total Sessions': 'sum',\n",
    "    'May Total Sessions': 'sum',\n",
    "    'June Total Sessions': 'sum',\n",
    "    'July Total Sessions': 'sum',\n",
    "    'August Total Sessions': 'sum'\n",
    "}).reset_index()\n",
    "lc_sessions.head()"
   ]
  },
  {
   "cell_type": "code",
   "execution_count": null,
   "id": "5ac1d97f-3adf-4421-a3a6-03fafa6ac7f8",
   "metadata": {},
   "outputs": [],
   "source": []
  }
 ],
 "metadata": {
  "kernelspec": {
   "display_name": "Python 3 (ipykernel)",
   "language": "python",
   "name": "python3"
  },
  "language_info": {
   "codemirror_mode": {
    "name": "ipython",
    "version": 3
   },
   "file_extension": ".py",
   "mimetype": "text/x-python",
   "name": "python",
   "nbconvert_exporter": "python",
   "pygments_lexer": "ipython3",
   "version": "3.11.3"
  }
 },
 "nbformat": 4,
 "nbformat_minor": 5
}
